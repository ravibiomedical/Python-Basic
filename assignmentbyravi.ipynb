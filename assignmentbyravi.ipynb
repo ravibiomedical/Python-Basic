{
  "nbformat": 4,
  "nbformat_minor": 0,
  "metadata": {
    "colab": {
      "provenance": [],
      "toc_visible": true
    },
    "kernelspec": {
      "name": "python3",
      "display_name": "Python 3"
    },
    "language_info": {
      "name": "python"
    }
  },
  "cells": [
    {
      "cell_type": "code",
      "execution_count": null,
      "metadata": {
        "id": "7ge5YdmOIHD2"
      },
      "outputs": [],
      "source": []
    },
    {
      "cell_type": "markdown",
      "source": [
        "PYTHON  BASIC  THEORETICAL QUESTIONS\n"
      ],
      "metadata": {
        "id": "bNc35IeeIwNh"
      }
    },
    {
      "cell_type": "markdown",
      "source": [
        "Q1  What is python,and why is it popular?\n",
        "\n",
        "\n",
        "   Ans-  Python is a programming language. and is it popular because it is easy to learn, versatile,large community of users, more libarary files,and has many applications in web developement, data science, and machine learning ."
      ],
      "metadata": {
        "id": "7pk1emhLNQ31"
      }
    },
    {
      "cell_type": "markdown",
      "source": [
        "Q2 What is an interpreter in python ?  \n",
        "\n",
        "Ans- An interpreter in python is a program that convert each program statment into machine code. or that it reads and executes the python codes.\n"
      ],
      "metadata": {
        "id": "SAokNuJCTjfw"
      }
    },
    {
      "cell_type": "markdown",
      "source": [
        "Q3 what are predifine keywords in python?\n",
        "\n",
        "Ans- Keywords are reserved words in python that have special meaning and cannot be used as identifiers examples of keywords include if,while,else,for,def, class and etc ."
      ],
      "metadata": {
        "id": "arxUXLlAdGxn"
      }
    },
    {
      "cell_type": "markdown",
      "source": [
        "Q4 Can keywords be used as  variable names?\n",
        "\n",
        "Ans- No keywords cannot be used as variable names because they are reserved words in programming language and it has predifine meaning and if we use keywords as a variable name it will give  us a syntax error.\n"
      ],
      "metadata": {
        "id": "XMO2n4UEhQQt"
      }
    },
    {
      "cell_type": "markdown",
      "source": [
        "Q5 what is mutability in python ?\n",
        "\n",
        "Ans- Mutability in python  refers  to the ability of an objects to be changed after creation .\n",
        "examples are list and dictionary and can be modified after crtaetiion.\n"
      ],
      "metadata": {
        "id": "Suwq3IJulH5Z"
      }
    },
    {
      "cell_type": "markdown",
      "source": [
        "Q6 what are list mutable, but tuples are immutables?\n"
      ],
      "metadata": {
        "id": "VxoOEOaGnYdo"
      }
    },
    {
      "cell_type": "markdown",
      "source": [
        "Q7 what is the difference between \"==\" and \" is\" operator in python ?  \n",
        "\n",
        "Ans\n",
        " \"==\"  is it a comparison operator being used for value equality means wheather two objects\n",
        "having same value or not.   \n",
        "\"is\"  Object identity (whether two variables refer to the same memory location)"
      ],
      "metadata": {
        "id": "Nm_LpisRqS5I"
      }
    },
    {
      "cell_type": "markdown",
      "source": [
        "Q8 what is logical operator in python ?\n",
        "\n",
        "Ans logical operators are used to combine conditional statements, allows\n",
        "to perform operations based on multiple conditions."
      ],
      "metadata": {
        "id": "6INjY-7Uxz4D"
      }
    },
    {
      "cell_type": "markdown",
      "source": [
        "Q9 What is type casting in python ?  \n",
        "\n",
        "Ans  Type casting is a process of changing one data type to another and is also known as type conversion ."
      ],
      "metadata": {
        "id": "q5xbmhHw1MAd"
      }
    },
    {
      "cell_type": "markdown",
      "source": [
        "Q10 what is the difference between the implicit and explict type casting ?\n",
        "\n",
        "Ans  Implicit type of type casting in which Python automatically converts one data type into another without data loss.  \n"
      ],
      "metadata": {
        "id": "fwUjMO2P2qsQ"
      }
    },
    {
      "cell_type": "code",
      "source": [
        "###implicit example\n",
        "a=5\n",
        "b=3.5\n",
        "c= a+b\n",
        "print(c)\n",
        "print(type(c))\n",
        "\n"
      ],
      "metadata": {
        "colab": {
          "base_uri": "https://localhost:8080/"
        },
        "id": "zgtpT9Y_5oz6",
        "outputId": "46b8c12f-76ae-4d94-c9b0-9bc109a7a053"
      },
      "execution_count": null,
      "outputs": [
        {
          "output_type": "stream",
          "name": "stdout",
          "text": [
            "8.5\n",
            "<class 'float'>\n"
          ]
        }
      ]
    },
    {
      "cell_type": "markdown",
      "source": [],
      "metadata": {
        "id": "QiNHfYz41I99"
      }
    },
    {
      "cell_type": "markdown",
      "source": [
        "Explicit type of type casting conversion is done manually using built-in functions"
      ],
      "metadata": {
        "id": "2OwDKC1K6xJz"
      }
    },
    {
      "cell_type": "code",
      "source": [
        "###explicit example\n",
        "x = \"100\"\n",
        "y = int(x)\n",
        "\n",
        "print(y)\n",
        "print(type(y))\n",
        "\n"
      ],
      "metadata": {
        "colab": {
          "base_uri": "https://localhost:8080/"
        },
        "id": "RH30OruN8S_i",
        "outputId": "62adc949-a0dd-4891-e938-e1452bba6bd6"
      },
      "execution_count": null,
      "outputs": [
        {
          "output_type": "stream",
          "name": "stdout",
          "text": [
            "100\n",
            "<class 'int'>\n"
          ]
        }
      ]
    },
    {
      "cell_type": "markdown",
      "source": [
        "Q11 whats the purpose of conditional statements in python ?  \n",
        "\n",
        " Ans the purpose of conditional statements in python  are used to execute code based on the evaluation of  one or more condition.  \n"
      ],
      "metadata": {
        "id": "LjSGhngG82Ds"
      }
    },
    {
      "cell_type": "markdown",
      "source": [
        "Q12  How does elif statement  work ?  \n",
        "\n",
        "Ans The elif statement in Python is used in multi-conditional decision-making. It stands for \"else if\"and is used after an if statement to check multiple."
      ],
      "metadata": {
        "id": "Mj6sevX39rnr"
      }
    },
    {
      "cell_type": "markdown",
      "source": [
        "Q13 What is the difference between for and while loops?\n",
        "\n",
        "Ans\n",
        "    For loops are used for iterating over a sequence of element.\n",
        "\n",
        "   While loops are used for executing code until a specified condition become false.\n"
      ],
      "metadata": {
        "id": "T9Mf8odH1HrH"
      }
    },
    {
      "cell_type": "markdown",
      "source": [
        "Q14 Describe a scenario where a while loop is more suitable than a for loop?  \n",
        "\n",
        " Ans\n",
        " A while loop is more suitable than a for loop when the number of iterations is not known in advance and depends on a condition being met dynamically.\n",
        "  \n",
        "  For Example :-\n",
        "\n",
        "  Imagine We are building a program that asks a user to enter a valid password. Since you don't know how many attempts the user will need, in this senerio  a while loop is a better option.   \n",
        "\n",
        "  A 'for' loop is typically used when we have a predefined range (for i in range(n)) which does not fit well here."
      ],
      "metadata": {
        "id": "X3SV8-OU5YFR"
      }
    },
    {
      "cell_type": "code",
      "source": [
        "correct_password = \"secure123\"\n",
        "user_input = \"\"\n",
        "\n",
        "while user_input != correct_password:\n",
        "    user_input = input(\"Enter your password: \")\n",
        "    if user_input == correct_password:\n",
        "        print(\"Access granted!\")\n",
        "    else:\n",
        "        print(\"Incorrect password, try again.\")\n"
      ],
      "metadata": {
        "id": "N4Mz1GAL9uPZ"
      },
      "execution_count": null,
      "outputs": []
    },
    {
      "cell_type": "markdown",
      "source": [
        "**practical questions**\n",
        "\n",
        "---\n",
        "\n"
      ],
      "metadata": {
        "id": "ffGBwVd9_c5C"
      }
    },
    {
      "cell_type": "code",
      "source": [
        "###Q1 Write a Python program to print \"Hello, World!\" ?\n",
        "###Ans\n",
        "print (\"hello World\")\n",
        "\n",
        "\n"
      ],
      "metadata": {
        "colab": {
          "base_uri": "https://localhost:8080/"
        },
        "id": "w9fT9b0yAHrA",
        "outputId": "d181d682-c053-4301-c1be-8272037d5ce6"
      },
      "execution_count": null,
      "outputs": [
        {
          "output_type": "stream",
          "name": "stdout",
          "text": [
            "hello World\n"
          ]
        }
      ]
    },
    {
      "cell_type": "code",
      "source": [
        "###Q2 2. Write a Python program that displays your name and age.\n",
        "### Ans\n",
        "print (\"my name is ravi\")\n",
        "print (\"my age is 23\")\n"
      ],
      "metadata": {
        "colab": {
          "base_uri": "https://localhost:8080/"
        },
        "id": "YgalT_-uCaVi",
        "outputId": "8398f323-e9ab-496b-a5f6-99dc3c4b1c30"
      },
      "execution_count": null,
      "outputs": [
        {
          "output_type": "stream",
          "name": "stdout",
          "text": [
            "my name is ravi\n",
            "my age is 23\n"
          ]
        }
      ]
    },
    {
      "cell_type": "code",
      "source": [
        "###Q3 Write code to print all the pre-defined keywords in Python using the keyword library?\n",
        "\n",
        "### Ans\n",
        "help(\"keywords\")\n",
        "\n"
      ],
      "metadata": {
        "colab": {
          "base_uri": "https://localhost:8080/"
        },
        "id": "tdywKVZxDjaI",
        "outputId": "7c28294e-5310-4050-c330-3db47ff27489"
      },
      "execution_count": null,
      "outputs": [
        {
          "output_type": "stream",
          "name": "stdout",
          "text": [
            "\n",
            "Here is a list of the Python keywords.  Enter any keyword to get more help.\n",
            "\n",
            "False               class               from                or\n",
            "None                continue            global              pass\n",
            "True                def                 if                  raise\n",
            "and                 del                 import              return\n",
            "as                  elif                in                  try\n",
            "assert              else                is                  while\n",
            "async               except              lambda              with\n",
            "await               finally             nonlocal            yield\n",
            "break               for                 not                 \n",
            "\n"
          ]
        }
      ]
    },
    {
      "cell_type": "code",
      "source": [
        "###Q4 Write a program that checks if a given word is a Python keyword.\n",
        "import keyword\n",
        "print(keyword.iskeyword(\"continue\"))\n",
        "print(keyword.iskeyword(\"ravi\"))"
      ],
      "metadata": {
        "colab": {
          "base_uri": "https://localhost:8080/"
        },
        "id": "pf4yGruOobAh",
        "outputId": "ee38399c-0026-43cc-804a-8f4c237c8f6c"
      },
      "execution_count": null,
      "outputs": [
        {
          "output_type": "stream",
          "name": "stdout",
          "text": [
            "True\n",
            "False\n"
          ]
        }
      ]
    },
    {
      "cell_type": "code",
      "source": [
        "#Q5 Create a list and tuple in Python, and demonstrate how attempting to change an element works differently\n",
        "#for each.\n",
        "\n",
        "\n",
        "####### List #######\n",
        "lis=[1,2,3,4,\"PW\",\"Skills\"] # initialized the list\n",
        "print(lis)\n",
        "lis[3]=\"lucky\"\n",
        "print(lis) #changed\n",
        "####### List #######\n",
        "\n",
        "###### Tuple ######\n",
        "tup=(1,2,3,4,\"PW\",\"Skills\") # initialized the tuple\n",
        "print(tup)\n",
        "\n",
        "# Convert the tuple to a list\n",
        "list_tup = list(tup)\n",
        "\n",
        "#Modify the element.\n",
        "list_tup[3] = \"lucky\"\n",
        "# Convert the list back to a tuple\n",
        "tup = tuple(list_tup)\n",
        "print(tup)  # Now changed\n",
        "\n",
        "###### Tuple ######\n"
      ],
      "metadata": {
        "colab": {
          "base_uri": "https://localhost:8080/"
        },
        "id": "YsLG6Bhrqi33",
        "outputId": "9992b066-d774-45e1-b4ad-692329973108"
      },
      "execution_count": null,
      "outputs": [
        {
          "output_type": "stream",
          "name": "stdout",
          "text": [
            "[1, 2, 3, 4, 'PW', 'Skills']\n",
            "[1, 2, 3, 'lucky', 'PW', 'Skills']\n",
            "(1, 2, 3, 4, 'PW', 'Skills')\n",
            "(1, 2, 3, 'lucky', 'PW', 'Skills')\n"
          ]
        }
      ]
    },
    {
      "cell_type": "code",
      "source": [
        "##Q6 Write a function to demonstrate the behavior of mutable and immutable arguments.\n",
        "## example: list\n",
        "\n",
        "def modify_arguments(a_list, an_integer):\n",
        "    a_list.append(5)\n",
        "    a_list[4] = 10  1`\n",
        "    an_integer += 10\n",
        "\n",
        "my_list = [1, 2, 3, 4]\n",
        "my_integer = 10\n",
        "modify_arguments(my_list, my_integer)\n",
        "print(\"\\noutside function:\")\n",
        "print(\"mutable argument:\", my_list)\n",
        "print(\"\\noutside function:\")\n",
        "print(\"Integer:\", my_integer)"
      ],
      "metadata": {
        "colab": {
          "base_uri": "https://localhost:8080/"
        },
        "id": "8zNNKqnNrMip",
        "outputId": "4bbea034-61fb-41a4-ee05-c85c51d5f4b2"
      },
      "execution_count": null,
      "outputs": [
        {
          "output_type": "stream",
          "name": "stdout",
          "text": [
            "\n",
            "outside function:\n",
            "mutable argument: [1, 2, 3, 4, 10]\n",
            "\n",
            "outside function:\n",
            "Integer: 10\n"
          ]
        }
      ]
    },
    {
      "cell_type": "code",
      "source": [],
      "metadata": {
        "id": "CLP8pgdQszNZ"
      },
      "execution_count": null,
      "outputs": []
    },
    {
      "cell_type": "code",
      "source": [
        "#Q7. Write a program that performs basic arithmetic operations on two user-input numbers.\n",
        "a=int(input())\n",
        "b=int(input())\n",
        "print(f\"a+b:{a+b} a-b:{a-b} a*b={a*b} a/b={a/b}\")"
      ],
      "metadata": {
        "id": "HaEg2f1nsQwR"
      },
      "execution_count": null,
      "outputs": []
    },
    {
      "cell_type": "code",
      "source": [
        "Q8 Program to demonstrate the use of logical operators\n",
        "\n",
        "# Define variables\n",
        "a = 10\n",
        "b = 5\n",
        "c = 15\n",
        "\n",
        "# Using the 'and' operator (Returns True if both conditions are True)\n",
        "if a > b and b < c:\n",
        "    print(\"Both conditions are True using 'and'\")\n",
        "\n",
        "# Using the 'or' operator (Returns True if at least one condition is True)\n",
        "if a > b or b > c:\n",
        "    print(\"At least one condition is True using 'or'\")\n",
        "\n",
        "# Using the 'not' operator (Reverses the result, returns False if the result is True)\n",
        "if not a == b:\n",
        "    print(\"Condition is False, reversed using 'not'\")\n",
        "\n",
        "# Combining logical operators\n",
        "if (a > b and b < c) or (a == c):\n",
        "    print(\"Complex condition using combined logical operators\")"
      ],
      "metadata": {
        "colab": {
          "base_uri": "https://localhost:8080/"
        },
        "id": "4Jm06qkj3p5N",
        "outputId": "f2d753d8-8ff2-4f25-9748-ee1a0eaa1ec4"
      },
      "execution_count": null,
      "outputs": [
        {
          "output_type": "stream",
          "name": "stdout",
          "text": [
            "Both conditions are True using 'and'\n",
            "At least one condition is True using 'or'\n",
            "Condition is False, reversed using 'not'\n",
            "Complex condition using combined logical operators\n"
          ]
        }
      ]
    },
    {
      "cell_type": "code",
      "source": [
        "#Q9 Write a Python program to convert user input from string to integer, float, and boolean types?\n",
        "#Ans\n",
        "def convert_input(user_input):\n",
        "    \"\"\"Converts user input to integer, float, or boolean.\"\"\"\n",
        "\n",
        "    try:\n",
        "        # Attempt to convert to integer\n",
        "        integer_value = int(user_input)\n",
        "        return f\"Integer: {integer_value}\"\n",
        "    except ValueError:\n",
        "        try:\n",
        "            # If integer conversion fails, attempt float conversion\n",
        "            float_value = float(user_input)\n",
        "            return f\"Float: {float_value}\"\n",
        "        except ValueError:\n",
        "            # If float conversion fails, attempt boolean conversion\n",
        "            if user_input.lower() in (\"true\", \"1\"):\n",
        "                boolean_value = True\n",
        "            elif user_input.lower() in (\"false\", \"0\"):\n",
        "                boolean_value = False\n",
        "            else:\n",
        "                boolean_value = None  # Handle invalid boolean input\n",
        "\n",
        "            if boolean_value is not None:\n",
        "                return f\"Boolean: {boolean_value}\"\n",
        "            else:\n",
        "                return \"Invalid input. Could not convert to integer, float, or boolean.\"\n",
        "\n",
        "if __name__ == \"__main__\":\n",
        "    user_input = input(\"Enter a value: \")\n",
        "    print(convert_input(user_input))\n"
      ],
      "metadata": {
        "id": "ezu9EY0d32i8"
      },
      "execution_count": null,
      "outputs": []
    },
    {
      "cell_type": "code",
      "source": [
        "Q#10. Write code to demonstrate type casting with list elements.\n",
        "l=[1.1,\"23\",\"True\"]\n",
        "print(l)\n",
        "l[0]=int(l[0])\n",
        "l[1]=int(l[1])\n",
        "l[2]=bool(l[2])\n",
        "print(l)"
      ],
      "metadata": {
        "id": "ya__zeaQ99Fo"
      },
      "execution_count": null,
      "outputs": []
    },
    {
      "cell_type": "code",
      "source": [
        "#Q11. Write a program that checks if a number is positive, negative, or zero.\n",
        "a=int(input())\n",
        "if(a>0):\n",
        "  print(\"positive\")\n",
        "elif(a<0):\n",
        "  print(\"negative\")\n",
        "else:\n",
        "  print(\"zero\")"
      ],
      "metadata": {
        "id": "_MQASqzr-NmW"
      },
      "execution_count": null,
      "outputs": []
    },
    {
      "cell_type": "code",
      "source": [
        "#Q12. Write a for loop to print numbers from 1 to 10.\n",
        "for i in range(1,11):\n",
        "  print(i,end=\" \")"
      ],
      "metadata": {
        "id": "pJ62mASH_IVI"
      },
      "execution_count": null,
      "outputs": []
    },
    {
      "cell_type": "code",
      "source": [
        "#Q13. Write a Python program to find the sum of all even numbers between 1 and 50.\n",
        "sum=0\n",
        "for i in range(1,51):\n",
        "  if(i%2==0):\n",
        "    sum+=i\n",
        "print(sum)\n"
      ],
      "metadata": {
        "id": "U3Oi8QJp_X0D"
      },
      "execution_count": null,
      "outputs": []
    },
    {
      "cell_type": "code",
      "source": [
        "#14. Write a program to reverse a string using a while loop.\n",
        "st=\"Alakh Pandey\"\n",
        "s=\"\"\n",
        "n=len(st)\n",
        "while(n>=0):\n",
        "  s+=st[n-1]\n",
        "  n-=1\n",
        "print(s)"
      ],
      "metadata": {
        "id": "f6xUMjLL_b9w"
      },
      "execution_count": null,
      "outputs": []
    },
    {
      "cell_type": "code",
      "source": [
        "#Q15. Write a Python program to calculate the factorial of a number provided by the user using a while loop.#\n",
        "n=int(input(\"Enter the no\"))\n",
        "fact=1\n",
        "while(n>0):\n",
        "  fact=fact*n\n",
        "  n-=1\n",
        "print(fact)"
      ],
      "metadata": {
        "id": "WXCXb9RP_td3"
      },
      "execution_count": null,
      "outputs": []
    }
  ]
}